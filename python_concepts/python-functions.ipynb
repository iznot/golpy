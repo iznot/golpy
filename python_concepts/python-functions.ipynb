{
 "cells": [
  {
   "cell_type": "code",
   "execution_count": null,
   "metadata": {},
   "outputs": [],
   "source": []
  },
  {
   "cell_type": "markdown",
   "metadata": {},
   "source": [
    "Anstatt einen Code immer wieder aufzurufen, kann ich Code in einer Funktion bündeln. ZB.:"
   ]
  },
  {
   "cell_type": "code",
   "execution_count": 9,
   "metadata": {},
   "outputs": [],
   "source": [
    "def computer_says():\n",
    "    print(\"computer says: Hello!\")"
   ]
  },
  {
   "cell_type": "markdown",
   "metadata": {},
   "source": [
    "Diese Funktion kann beliebig oft aufgerufen werden:"
   ]
  },
  {
   "cell_type": "code",
   "execution_count": 10,
   "metadata": {},
   "outputs": [
    {
     "name": "stdout",
     "output_type": "stream",
     "text": [
      "computer says: Hello!\n"
     ]
    }
   ],
   "source": [
    "computer_says()"
   ]
  },
  {
   "cell_type": "markdown",
   "metadata": {},
   "source": [
    "Wir können auch Argumente definieren:"
   ]
  },
  {
   "cell_type": "code",
   "execution_count": 11,
   "metadata": {},
   "outputs": [
    {
     "name": "stdout",
     "output_type": "stream",
     "text": [
      "computer says: hello\n"
     ]
    }
   ],
   "source": [
    "def computer_says(sagschon):\n",
    "    print(f'computer says: {sagschon}')\n",
    "\n",
    "computer_says(\"hello\")"
   ]
  },
  {
   "cell_type": "markdown",
   "metadata": {},
   "source": [
    "Ein Argument kann auch einen Defaultwert haben:"
   ]
  },
  {
   "cell_type": "code",
   "execution_count": 12,
   "metadata": {},
   "outputs": [
    {
     "name": "stdout",
     "output_type": "stream",
     "text": [
      "computer says: bye\n",
      "computer says: hello\n"
     ]
    }
   ],
   "source": [
    "def computer_says(sagschon = \"bye\"):\n",
    "    print(f'computer says: {sagschon}')\n",
    "\n",
    "computer_says()\n",
    "computer_says(\"hello\")"
   ]
  },
  {
   "cell_type": "markdown",
   "metadata": {},
   "source": [
    "In Python werden Variabeln nicht streng typisiert. Ich kann \"Computer_says()\" auch mit einem \"int\" anstatt mit einem \"str\" aufrufen:"
   ]
  },
  {
   "cell_type": "code",
   "execution_count": 13,
   "metadata": {},
   "outputs": [
    {
     "name": "stdout",
     "output_type": "stream",
     "text": [
      "computer says: 1\n"
     ]
    }
   ],
   "source": [
    "computer_says(1)"
   ]
  },
  {
   "cell_type": "markdown",
   "metadata": {},
   "source": [
    "Um die Typsicherheit zu erhöhen, kann ich den erwarteten Typ vorschlagen. Dieser Vorschlag wird von Python nicht streng umgesetzt, aber die IDE kann ihn zu meiner Unterstützung anzeigen:"
   ]
  },
  {
   "cell_type": "code",
   "execution_count": 14,
   "metadata": {},
   "outputs": [
    {
     "name": "stdout",
     "output_type": "stream",
     "text": [
      "computer says: bye\n"
     ]
    }
   ],
   "source": [
    "def computer_says(sagschon : str = \"bye\"):\n",
    "    print(f'computer says: {sagschon}')\n",
    "\n",
    "computer_says()"
   ]
  },
  {
   "cell_type": "markdown",
   "metadata": {},
   "source": [
    "Dies wird dann auch für Codedokumentation hilfreich:"
   ]
  },
  {
   "cell_type": "code",
   "execution_count": 15,
   "metadata": {},
   "outputs": [],
   "source": [
    "def computer_says(sagschon: str = \"bye\"):\n",
    "    \"\"\"Diese Funktion lässt meinen Computer sprechen.\n",
    "\n",
    "    Args:\n",
    "        sagschon (str, optional): Auf dringendes Bitten erwidert der Computer, was immer ich befehle. Defaults to \"bye\".\n",
    "    \"\"\"\n",
    "    print(f'computer says: {sagschon}')"
   ]
  },
  {
   "cell_type": "markdown",
   "metadata": {},
   "source": [
    "## Traceback\n",
    "\n",
    "Funktionen können wiederum Funktionen aufrufen. Passiert in einer solchen Kette ein Fehler, dann zeigt mir das Traceback wo wie warum:"
   ]
  },
  {
   "cell_type": "code",
   "execution_count": 16,
   "metadata": {},
   "outputs": [
    {
     "name": "stdout",
     "output_type": "stream",
     "text": [
      "hello\n",
      "2.0\n"
     ]
    }
   ],
   "source": [
    "def shw(denom = 5):\n",
    "    print(\"hello\")\n",
    "    r = divide(2, denom) \n",
    "    print(r) \n",
    "\n",
    "def divide(num, denom):\n",
    "    s = num/denom\n",
    "    return s\n",
    "\n",
    "shw(1)\n",
    "# shw(0)"
   ]
  },
  {
   "cell_type": "markdown",
   "metadata": {},
   "source": [
    "Hätte cih das `shw(0)` aufgerufen, dann wäre folgende Traceback angezeigt worden:"
   ]
  },
  {
   "cell_type": "markdown",
   "metadata": {},
   "source": [
    "~~~\n",
    "---------------------------------------------------------------------------\n",
    "ZeroDivisionError                         Traceback (most recent call last)\n",
    "c:\\Users\\anais\\OneDrive - SekII Zürich\\Maturaprojekt\\golpy\\python_concepts\\python-functions.ipynb Zelle 17 in <cell line: 10>()\n",
    "      7     s = num/denom\n",
    "      8     return s\n",
    "---> 10 shw(0)\n",
    "\n",
    "c:\\Users\\anais\\OneDrive - SekII Zürich\\Maturaprojekt\\golpy\\python_concepts\\python-functions.ipynb Zelle 17 in shw(denom)\n",
    "      1 def shw(denom = 5):\n",
    "      2     print(\"hello\")\n",
    "----> 3     r = divide(2, denom) \n",
    "      4     print(r)\n",
    "\n",
    "c:\\Users\\anais\\OneDrive - SekII Zürich\\Maturaprojekt\\golpy\\python_concepts\\python-functions.ipynb Zelle 17 in divide(num, denom)\n",
    "      6 def divide(num, denom):\n",
    "----> 7     s = num/denom\n",
    "      8     return s\n",
    "\n",
    "ZeroDivisionError: division by zero\n",
    "~~"
   ]
  }
 ],
 "metadata": {
  "kernelspec": {
   "display_name": "Python 3.10.5 ('.venv': venv)",
   "language": "python",
   "name": "python3"
  },
  "language_info": {
   "codemirror_mode": {
    "name": "ipython",
    "version": 3
   },
   "file_extension": ".py",
   "mimetype": "text/x-python",
   "name": "python",
   "nbconvert_exporter": "python",
   "pygments_lexer": "ipython3",
   "version": "3.10.5"
  },
  "orig_nbformat": 4,
  "vscode": {
   "interpreter": {
    "hash": "40060111d97782fa1f3658ffa0a0520d380706a4dca5986a70c11a1d3553ae0d"
   }
  }
 },
 "nbformat": 4,
 "nbformat_minor": 2
}
