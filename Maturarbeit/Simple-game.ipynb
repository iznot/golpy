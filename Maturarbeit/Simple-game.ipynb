{
 "cells": [
  {
   "cell_type": "markdown",
   "metadata": {},
   "source": [
    "#Simple Game"
   ]
  },
  {
   "cell_type": "markdown",
   "metadata": {},
   "source": [
    "##Import"
   ]
  },
  {
   "cell_type": "markdown",
   "metadata": {},
   "source": [
    "Zuerst muss \"Numpy\" importiert werden, da in dieser Library unter anderem die Funktionen zur Erstellung eines Arrays definiert sind.  "
   ]
  },
  {
   "cell_type": "code",
   "execution_count": 4,
   "metadata": {},
   "outputs": [],
   "source": [
    "import numpy as np"
   ]
  },
  {
   "cell_type": "markdown",
   "metadata": {},
   "source": [
    "Da ich nicht immer numpy schreipen will, habe ich die library unter \"np\" abgespeichert."
   ]
  },
  {
   "cell_type": "markdown",
   "metadata": {},
   "source": [
    "##Create Gameboard"
   ]
  },
  {
   "cell_type": "markdown",
   "metadata": {},
   "source": [
    "Als nächstes will ich das Gameboard definieren. Die beste Lösung hierfür ist ein Array aus Boolians, da nur zwei Zustände benötigt werden. Zuerst wird die Funktion definiert:"
   ]
  },
  {
   "cell_type": "code",
   "execution_count": 5,
   "metadata": {},
   "outputs": [],
   "source": [
    "def create_gameboard(rows: int, cols: int) -> np.array:"
   ]
  },
  {
   "cell_type": "markdown",
   "metadata": {},
   "source": [
    "In der Klammer wird der Funktion gesagt, welche Indikatoren sie nehmen muss, \"rows\" und \"cols\", und welchem Datentyp diese entsprechen, Integer, \"int\". Danach wird ihr noch mitgeteilt, welcher Datentyp als Endprodukt der Funktion herauskommen soll, ein Array. "
   ]
  },
  {
   "cell_type": "markdown",
   "metadata": {},
   "source": [
    "Nun definieren wir die Variable \"Gameboard\" mit der Funktion zur Erschaffung eines Arrays als das Array selbst:"
   ]
  },
  {
   "cell_type": "code",
   "execution_count": null,
   "metadata": {},
   "outputs": [],
   "source": [
    "    gameboard = np.full((rows,cols), False)"
   ]
  },
  {
   "cell_type": "markdown",
   "metadata": {},
   "source": [
    "Zum Schluss muss das Gameboard nur noch zurückgegeben werden:"
   ]
  },
  {
   "cell_type": "code",
   "execution_count": null,
   "metadata": {},
   "outputs": [],
   "source": [
    "    return gameboard"
   ]
  },
  {
   "cell_type": "markdown",
   "metadata": {},
   "source": [
    "Alles in allem ergibt dies also folgender Code:"
   ]
  },
  {
   "cell_type": "code",
   "execution_count": null,
   "metadata": {},
   "outputs": [],
   "source": [
    "def create_gameboard(rows: int, cols: int) -> np.array:\n",
    "    gameboard = np.full((rows,cols), False)\n",
    "    return gameboard\n"
   ]
  },
  {
   "cell_type": "markdown",
   "metadata": {},
   "source": [
    "Die Grösse des Gameboards ist hierbei noch nicht genau definiert, sondern durch die Variabeln \"rows\" und \"cols\" ersetzt. Somit kann das Gameboard eine beliebigi Grösse annehmen, die vom Benutzer zuvor angegeben werden muss. \n",
    "Momentan sind alle Zellen des Arrays False, wenn der Benutzer allerding eine Zelle wie folgt als True definiert, wird sie umgewandelt:"
   ]
  },
  {
   "cell_type": "code",
   "execution_count": null,
   "metadata": {},
   "outputs": [],
   "source": [
    "gameboard[row, col] = True"
   ]
  },
  {
   "cell_type": "markdown",
   "metadata": {},
   "source": [
    "Nun können wir beispielsweise diesen Array drucken:"
   ]
  },
  {
   "cell_type": "code",
   "execution_count": 7,
   "metadata": {},
   "outputs": [
    {
     "data": {
      "text/plain": [
       "array([[False, False, False, False],\n",
       "       [False, False, False, False],\n",
       "       [False, False, False, False],\n",
       "       [False, False, False, False]])"
      ]
     },
     "execution_count": 7,
     "metadata": {},
     "output_type": "execute_result"
    }
   ],
   "source": [
    "create_gameboard(4, 4)"
   ]
  },
  {
   "cell_type": "markdown",
   "metadata": {},
   "source": [
    "##Print Gameboard"
   ]
  },
  {
   "cell_type": "markdown",
   "metadata": {},
   "source": [
    "Damit das Gameboard übersichtlicher aussieht, will ich das False durch leere Zellen und das True durch gefüllte Zellen ersetzen. "
   ]
  },
  {
   "cell_type": "markdown",
   "metadata": {},
   "source": [
    "Zuerst muss die Funktion definiert werde:"
   ]
  },
  {
   "cell_type": "code",
   "execution_count": null,
   "metadata": {},
   "outputs": [],
   "source": [
    "def print_gameboard(gameboard : np.array):\n",
    "    "
   ]
  },
  {
   "cell_type": "markdown",
   "metadata": {},
   "source": [
    "Nun fangen wir bei den Reihen des Gameboards an:"
   ]
  },
  {
   "cell_type": "code",
   "execution_count": null,
   "metadata": {},
   "outputs": [],
   "source": [
    "rows = gameboard.shape[0]\n",
    "first_line = '---' * cols\n",
    "\n",
    "for row in range (rows):\n",
    "    print(first_line)\n"
   ]
  },
  {
   "cell_type": "markdown",
   "metadata": {},
   "source": [
    "In diesem Code wurde der Funktion vorgeschrieben, dass die Variable \"rows\" der Breite des zuvor definierten Gameboards entspricht. Danach wird die Variable \"first_line\" als \"---\" definiert und gesagt, dass diese solange ist, wie der noch nicht definierte Term \"cols\". Um nun die Reihen in der gewünschten Anzahl drucken zu können, verwende ich eine for-Schleife, die solange durchläuft, bis soviele \"first_line\"'s gedruckt wurden, wie der Wert von \"rows\" gross ist. "
   ]
  },
  {
   "cell_type": "markdown",
   "metadata": {},
   "source": [
    "Als nächstes will ich die Kolonnen drucken:"
   ]
  },
  {
   "cell_type": "code",
   "execution_count": null,
   "metadata": {},
   "outputs": [],
   "source": [
    "cols = gameboard.shape[1]\n",
    "second_line = '|'\n",
    "\n",
    "for col in range(cols):"
   ]
  },
  {
   "cell_type": "markdown",
   "metadata": {},
   "source": [
    "Der Anfang ist hierbei gleich wie bei den Reihen, danach muss aber ein Code folgen, der den Inhalt der Zelle definiert:"
   ]
  },
  {
   "cell_type": "code",
   "execution_count": null,
   "metadata": {},
   "outputs": [],
   "source": [
    "    cell_value = gameboard[row, col]\n",
    "\n",
    "    if cell_value == False:\n",
    "        cell_string = '   |'\n",
    "    else:\n",
    "        cell_string = ' o |'\n",
    "    \n",
    "    second_line += cell_string\n",
    "    \n",
    "print(second_line)"
   ]
  },
  {
   "cell_type": "markdown",
   "metadata": {},
   "source": [
    "Zuerst wird die Variable \"cell_value\" als einzelne Zelle definiert. Dann wird eine Bedinnung benötigt. Falls die Zelle als False definiert ist, also tot, dann bleibt sie leer. Falls etwas anderes, also True und somit lebend, dann sieht die Zelle so aus: \" o |\". Am schluss wird der \"cell_string\" zu der \"second_line\" hinzugefügt, sodass die Zelle dann entweder so \"|   |\" oder so \n",
    "\"| o |\" aussieht. Nun muss \"second_line\" nur noch gedruckt werden."
   ]
  },
  {
   "cell_type": "markdown",
   "metadata": {},
   "source": [
    "Am Ende des Codes muss nochmals die \"first_line\" gedruckt werden, da der Array sonst gegen unten offen bleibt. Weil \"first_line\" aber in der Definition der Funktion definiert ist, muss hier ausgeschrieben werden, was gedruckt werden soll, ansonsten ist dem Programm nicht klar, was \"first_line\" sein soll."
   ]
  },
  {
   "cell_type": "code",
   "execution_count": null,
   "metadata": {},
   "outputs": [],
   "source": [
    "print(' ---' * cols)"
   ]
  },
  {
   "cell_type": "markdown",
   "metadata": {},
   "source": [
    "Also sieht der ganze Code wie folgt aus:"
   ]
  },
  {
   "cell_type": "code",
   "execution_count": 6,
   "metadata": {},
   "outputs": [],
   "source": [
    "def print_gameboard(gameboard : np.array):\n",
    "  \n",
    "    rows = gameboard.shape[0]\n",
    "    cols = gameboard.shape[1]\n",
    "    first_line = ' ---' * cols\n",
    "    \n",
    "    for row in range(rows):\n",
    "        print(first_line)\n",
    "        second_line = '|'\n",
    "\n",
    "        for col in range(cols):\n",
    "            cell_value = gameboard[row, col]\n",
    "\n",
    "            if cell_value == False:\n",
    "                cell_string = '   |'\n",
    "         \n",
    "            else:\n",
    "                cell_string = ' o |'\n",
    "          \n",
    "            second_line += cell_string\n",
    "    \n",
    "        print(second_line)\n",
    "    \n",
    "    print(' ---' * cols)"
   ]
  },
  {
   "cell_type": "markdown",
   "metadata": {},
   "source": [
    "Also sieht der Array nun wie folgt aus:"
   ]
  },
  {
   "cell_type": "code",
   "execution_count": 13,
   "metadata": {},
   "outputs": [
    {
     "ename": "NameError",
     "evalue": "name 'gameboard' is not defined",
     "output_type": "error",
     "traceback": [
      "\u001b[1;31m---------------------------------------------------------------------------\u001b[0m",
      "\u001b[1;31mNameError\u001b[0m                                 Traceback (most recent call last)",
      "\u001b[1;32mc:\\Users\\anais\\OneDrive - SekII Zürich\\Maturaprojekt\\golpy\\Maturarbeit\\Simple-game.ipynb Zelle 37\u001b[0m in \u001b[0;36m<cell line: 1>\u001b[1;34m()\u001b[0m\n\u001b[1;32m----> <a href='vscode-notebook-cell:/c%3A/Users/anais/OneDrive%20-%20SekII%20Z%C3%BCrich/Maturaprojekt/golpy/Maturarbeit/Simple-game.ipynb#ch0000042?line=0'>1</a>\u001b[0m print_gameboard(gameboard)\n",
      "\u001b[1;31mNameError\u001b[0m: name 'gameboard' is not defined"
     ]
    }
   ],
   "source": [
    "print_gameboard(gameboard)\n",
    "#NOTE wieso, wo und wie muss ich das definieren?"
   ]
  },
  {
   "cell_type": "markdown",
   "metadata": {},
   "source": [
    "##Neighbours indices"
   ]
  },
  {
   "cell_type": "markdown",
   "metadata": {},
   "source": [
    "Bevor die Spielregeln definiert werden, muss noch ein Grundregelndes Problem geklärt werden: Was passiert am Rand des Spielfeldes? Ich habe mich für die Variante entschieden, dass das Spielfeld auf der gegenüberliegenden Seite weitergeht, also so zu sagen gespiegelt wird. Also muss eine Funktion erstellt werden, die den Wert des Nachbarn einholt, und falls auf einer Seite keine existieren, dies auf die andere Seite spiegelt."
   ]
  },
  {
   "cell_type": "markdown",
   "metadata": {},
   "source": [
    "Zuerst wird wieder die Funktion definiert. In der Klammer wird ihr vorgeschrieben, welche Faktoren sie einholen muss und welchem Datentype sie entsprechen sollen. Danach steht, was am Ende der Funktion herauskommen soll."
   ]
  },
  {
   "cell_type": "code",
   "execution_count": null,
   "metadata": {},
   "outputs": [],
   "source": [
    "def get_neighbour_indices(row: int, col: int, rows: int, cols: int) -> list[int]:"
   ]
  },
  {
   "cell_type": "markdown",
   "metadata": {},
   "source": [
    "Der Inhalt dieser Definition stellt ein etwas schwierigeres Problem dar. Wie kann der Funktion gesagt werden, dass sie je nach Standpunkt der Zelle den Status der gegenüberliegenden Randzelle einholen muss? Dies schreit förmlich nach einer if-Schlaufe, ist aber auch eleganter zu lösen. "
   ]
  },
  {
   "cell_type": "markdown",
   "metadata": {},
   "source": [
    "Die mathematische Funktion \"Modulo\" teilt eine Zahl durch eine andere und als Resultat kommt der nächst ganze Rest heraus. Also wenn zum Beispiel 20 durch 6 geteilt wird, ist das Resultat 2. Dies nun auf die Funktion übertragen"
   ]
  },
  {
   "cell_type": "code",
   "execution_count": null,
   "metadata": {},
   "outputs": [],
   "source": [
    "def get_neighbour_indices(row: int, col: int, rows: int, cols: int) -> list[int]:\n",
    "    toprow = (row - 1) % rows\n",
    "    bottomrow = (row + 1) % rows\n",
    "    leftcol = (col - 1) % cols\n",
    "    rightcol = (col + 1) % cols\n",
    "    res = [toprow, bottomrow, leftcol, rightcol]\n",
    "    return res"
   ]
  }
 ],
 "metadata": {
  "kernelspec": {
   "display_name": "Python 3.10.5 ('.venv': venv)",
   "language": "python",
   "name": "python3"
  },
  "language_info": {
   "codemirror_mode": {
    "name": "ipython",
    "version": 3
   },
   "file_extension": ".py",
   "mimetype": "text/x-python",
   "name": "python",
   "nbconvert_exporter": "python",
   "pygments_lexer": "ipython3",
   "version": "3.10.5"
  },
  "orig_nbformat": 4,
  "vscode": {
   "interpreter": {
    "hash": "40060111d97782fa1f3658ffa0a0520d380706a4dca5986a70c11a1d3553ae0d"
   }
  }
 },
 "nbformat": 4,
 "nbformat_minor": 2
}
